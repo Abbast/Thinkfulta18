{
  "nbformat": 4,
  "nbformat_minor": 0,
  "metadata": {
    "colab": {
      "name": "Capstone_1.ipynb",
      "provenance": [],
      "authorship_tag": "ABX9TyO2JI6nWBymQTEivMdajsfD",
      "include_colab_link": true
    },
    "kernelspec": {
      "name": "python3",
      "display_name": "Python 3"
    },
    "language_info": {
      "name": "python"
    }
  },
  "cells": [
    {
      "cell_type": "markdown",
      "metadata": {
        "id": "view-in-github",
        "colab_type": "text"
      },
      "source": [
        "<a href=\"https://colab.research.google.com/github/Abbast/Thinkfulta18/blob/main/Capstone_1.ipynb\" target=\"_parent\"><img src=\"https://colab.research.google.com/assets/colab-badge.svg\" alt=\"Open In Colab\"/></a>"
      ]
    },
    {
      "cell_type": "markdown",
      "metadata": {
        "id": "_uNDjHnOMSXw"
      },
      "source": [
        "## Research Proposal ##\n",
        "\n",
        "For this capstone project, we have elected to perform analysis upon the dataset from the link below:\n",
        "\n",
        "https://datacatalog.worldbank.org/dataset/worldwide-bureaucracy-indicators\n",
        "\n",
        "The above dataset comes from the Worldwide Bureaucracy Indicators database, via the webpage of the World Bank. The dataset is comprised of census-based data, mainly floating point numerical values, on public and private sector employment in 130+ nations between the years 2000 and 2018. \n",
        "\n",
        "This dataset is interesting due to its scope, content, and potential in responding to socio-economic questions. The shape of this dataset in a pandas frame is (12144, 24) i.e., 12144 rows for country names and 24 columns. Analysis of this dataset allows for comparisons between nations or continents over a variety of axes, or across spans of time. \n",
        "\n",
        "Specifically, this capstone will seek to answer the following question:\n",
        "\n",
        "1. On average, is there a difference in the female share of paid private sector employees in European Union member nations between 2012 and 2017, given the samples that have been collected?\n",
        "\n",
        "To answer this question, we will state our null and alternative hypotheses as follows:\n",
        "\n",
        "$H_0 : $ there is no difference in the female share of paid private sector employees in EU member nations between 2012 and 2017\n",
        "\n",
        "$H_a : $ there is a difference in the female share of paid private sector employees in EU member nations between 2012 and 2017\n",
        "\n",
        "To test these hypotheses, we will begin by conducting normality tests on the data from the SciPy stats library, in particular the normal test and Shapiro-Wilks tests, to determine if the data is normally distributed. Depending on the results of the normality tests, we will either proceed with an parametric tests such as the one-way ANOVA test or non-parametric tests to further test our hypothesis. \n",
        "\n",
        "Time-permitting, we may seek to answer a secondary question:\n",
        "\n",
        "2. On average, is there a difference in the female to male wage ratio in the private sector of European Union member nations, given the samples collected, between 2012 and 2017?\n",
        "\n",
        "Our null and alternative hypotheses for this question are the following:\n",
        "\n",
        "$H_0 : $ there is no difference in the female to male wage ratio in the private sector of EU member nations, given the collected samples, between  2000 and 2018\n",
        "\n",
        "$H_a : $ there is a difference in the female to male wage ratio in the private sector of EU member nations, given the collected samples, between  2000 and 2018\n",
        "\n",
        "The testing for this secondary question will generally proceed in the same manner as that for the primary question above.\n",
        "\n",
        "\n",
        "These are questions rooted in economics and social justice pertinent to the advancement of women in the European Union, and they would be interesting to those in government, social justice, or the business sector seeking to address potential pay discrepancies or hiring/employment biases based upon gender in Europe (specifically the European Union). Additionally, the general public would benefit greatly from directly seeing the responses to the above questions as they are relevant regardless of location, especially the female to male wage ratio.\n"
      ]
    },
    {
      "cell_type": "markdown",
      "metadata": {
        "id": "ayx8N1ShjJQD"
      },
      "source": [
        "## Question 1 ##"
      ]
    },
    {
      "cell_type": "code",
      "metadata": {
        "id": "rUESvii4BpG9"
      },
      "source": [
        "# Import modules and libraries \n",
        "\n",
        "%matplotlib inline\n",
        "import numpy as np\n",
        "import pandas as pd\n",
        "import seaborn as sns\n",
        "import matplotlib.pyplot as plt\n",
        "from scipy import stats"
      ],
      "execution_count": 1,
      "outputs": []
    },
    {
      "cell_type": "code",
      "metadata": {
        "id": "XMMIR0bPWzcf",
        "colab": {
          "base_uri": "https://localhost:8080/",
          "height": 408
        },
        "outputId": "1586c9b3-ef39-49db-f48f-03a9eecf3e56"
      },
      "source": [
        "# Import our data into a dataframe\n",
        "\n",
        "wwbi = pd.read_csv(\"WWBIData.csv\")"
      ],
      "execution_count": 2,
      "outputs": [
        {
          "output_type": "error",
          "ename": "FileNotFoundError",
          "evalue": "ignored",
          "traceback": [
            "\u001b[0;31m---------------------------------------------------------------------------\u001b[0m",
            "\u001b[0;31mFileNotFoundError\u001b[0m                         Traceback (most recent call last)",
            "\u001b[0;32m<ipython-input-2-d75777f3cf7f>\u001b[0m in \u001b[0;36m<module>\u001b[0;34m()\u001b[0m\n\u001b[1;32m      1\u001b[0m \u001b[0;31m# Import our data into a dataframe\u001b[0m\u001b[0;34m\u001b[0m\u001b[0;34m\u001b[0m\u001b[0;34m\u001b[0m\u001b[0m\n\u001b[1;32m      2\u001b[0m \u001b[0;34m\u001b[0m\u001b[0m\n\u001b[0;32m----> 3\u001b[0;31m \u001b[0mwwbi\u001b[0m \u001b[0;34m=\u001b[0m \u001b[0mpd\u001b[0m\u001b[0;34m.\u001b[0m\u001b[0mread_csv\u001b[0m\u001b[0;34m(\u001b[0m\u001b[0;34m\"WWBIData.csv\"\u001b[0m\u001b[0;34m)\u001b[0m\u001b[0;34m\u001b[0m\u001b[0;34m\u001b[0m\u001b[0m\n\u001b[0m",
            "\u001b[0;32m/usr/local/lib/python3.7/dist-packages/pandas/io/parsers.py\u001b[0m in \u001b[0;36mread_csv\u001b[0;34m(filepath_or_buffer, sep, delimiter, header, names, index_col, usecols, squeeze, prefix, mangle_dupe_cols, dtype, engine, converters, true_values, false_values, skipinitialspace, skiprows, skipfooter, nrows, na_values, keep_default_na, na_filter, verbose, skip_blank_lines, parse_dates, infer_datetime_format, keep_date_col, date_parser, dayfirst, cache_dates, iterator, chunksize, compression, thousands, decimal, lineterminator, quotechar, quoting, doublequote, escapechar, comment, encoding, dialect, error_bad_lines, warn_bad_lines, delim_whitespace, low_memory, memory_map, float_precision)\u001b[0m\n\u001b[1;32m    686\u001b[0m     )\n\u001b[1;32m    687\u001b[0m \u001b[0;34m\u001b[0m\u001b[0m\n\u001b[0;32m--> 688\u001b[0;31m     \u001b[0;32mreturn\u001b[0m \u001b[0m_read\u001b[0m\u001b[0;34m(\u001b[0m\u001b[0mfilepath_or_buffer\u001b[0m\u001b[0;34m,\u001b[0m \u001b[0mkwds\u001b[0m\u001b[0;34m)\u001b[0m\u001b[0;34m\u001b[0m\u001b[0;34m\u001b[0m\u001b[0m\n\u001b[0m\u001b[1;32m    689\u001b[0m \u001b[0;34m\u001b[0m\u001b[0m\n\u001b[1;32m    690\u001b[0m \u001b[0;34m\u001b[0m\u001b[0m\n",
            "\u001b[0;32m/usr/local/lib/python3.7/dist-packages/pandas/io/parsers.py\u001b[0m in \u001b[0;36m_read\u001b[0;34m(filepath_or_buffer, kwds)\u001b[0m\n\u001b[1;32m    452\u001b[0m \u001b[0;34m\u001b[0m\u001b[0m\n\u001b[1;32m    453\u001b[0m     \u001b[0;31m# Create the parser.\u001b[0m\u001b[0;34m\u001b[0m\u001b[0;34m\u001b[0m\u001b[0;34m\u001b[0m\u001b[0m\n\u001b[0;32m--> 454\u001b[0;31m     \u001b[0mparser\u001b[0m \u001b[0;34m=\u001b[0m \u001b[0mTextFileReader\u001b[0m\u001b[0;34m(\u001b[0m\u001b[0mfp_or_buf\u001b[0m\u001b[0;34m,\u001b[0m \u001b[0;34m**\u001b[0m\u001b[0mkwds\u001b[0m\u001b[0;34m)\u001b[0m\u001b[0;34m\u001b[0m\u001b[0;34m\u001b[0m\u001b[0m\n\u001b[0m\u001b[1;32m    455\u001b[0m \u001b[0;34m\u001b[0m\u001b[0m\n\u001b[1;32m    456\u001b[0m     \u001b[0;32mif\u001b[0m \u001b[0mchunksize\u001b[0m \u001b[0;32mor\u001b[0m \u001b[0miterator\u001b[0m\u001b[0;34m:\u001b[0m\u001b[0;34m\u001b[0m\u001b[0;34m\u001b[0m\u001b[0m\n",
            "\u001b[0;32m/usr/local/lib/python3.7/dist-packages/pandas/io/parsers.py\u001b[0m in \u001b[0;36m__init__\u001b[0;34m(self, f, engine, **kwds)\u001b[0m\n\u001b[1;32m    946\u001b[0m             \u001b[0mself\u001b[0m\u001b[0;34m.\u001b[0m\u001b[0moptions\u001b[0m\u001b[0;34m[\u001b[0m\u001b[0;34m\"has_index_names\"\u001b[0m\u001b[0;34m]\u001b[0m \u001b[0;34m=\u001b[0m \u001b[0mkwds\u001b[0m\u001b[0;34m[\u001b[0m\u001b[0;34m\"has_index_names\"\u001b[0m\u001b[0;34m]\u001b[0m\u001b[0;34m\u001b[0m\u001b[0;34m\u001b[0m\u001b[0m\n\u001b[1;32m    947\u001b[0m \u001b[0;34m\u001b[0m\u001b[0m\n\u001b[0;32m--> 948\u001b[0;31m         \u001b[0mself\u001b[0m\u001b[0;34m.\u001b[0m\u001b[0m_make_engine\u001b[0m\u001b[0;34m(\u001b[0m\u001b[0mself\u001b[0m\u001b[0;34m.\u001b[0m\u001b[0mengine\u001b[0m\u001b[0;34m)\u001b[0m\u001b[0;34m\u001b[0m\u001b[0;34m\u001b[0m\u001b[0m\n\u001b[0m\u001b[1;32m    949\u001b[0m \u001b[0;34m\u001b[0m\u001b[0m\n\u001b[1;32m    950\u001b[0m     \u001b[0;32mdef\u001b[0m \u001b[0mclose\u001b[0m\u001b[0;34m(\u001b[0m\u001b[0mself\u001b[0m\u001b[0;34m)\u001b[0m\u001b[0;34m:\u001b[0m\u001b[0;34m\u001b[0m\u001b[0;34m\u001b[0m\u001b[0m\n",
            "\u001b[0;32m/usr/local/lib/python3.7/dist-packages/pandas/io/parsers.py\u001b[0m in \u001b[0;36m_make_engine\u001b[0;34m(self, engine)\u001b[0m\n\u001b[1;32m   1178\u001b[0m     \u001b[0;32mdef\u001b[0m \u001b[0m_make_engine\u001b[0m\u001b[0;34m(\u001b[0m\u001b[0mself\u001b[0m\u001b[0;34m,\u001b[0m \u001b[0mengine\u001b[0m\u001b[0;34m=\u001b[0m\u001b[0;34m\"c\"\u001b[0m\u001b[0;34m)\u001b[0m\u001b[0;34m:\u001b[0m\u001b[0;34m\u001b[0m\u001b[0;34m\u001b[0m\u001b[0m\n\u001b[1;32m   1179\u001b[0m         \u001b[0;32mif\u001b[0m \u001b[0mengine\u001b[0m \u001b[0;34m==\u001b[0m \u001b[0;34m\"c\"\u001b[0m\u001b[0;34m:\u001b[0m\u001b[0;34m\u001b[0m\u001b[0;34m\u001b[0m\u001b[0m\n\u001b[0;32m-> 1180\u001b[0;31m             \u001b[0mself\u001b[0m\u001b[0;34m.\u001b[0m\u001b[0m_engine\u001b[0m \u001b[0;34m=\u001b[0m \u001b[0mCParserWrapper\u001b[0m\u001b[0;34m(\u001b[0m\u001b[0mself\u001b[0m\u001b[0;34m.\u001b[0m\u001b[0mf\u001b[0m\u001b[0;34m,\u001b[0m \u001b[0;34m**\u001b[0m\u001b[0mself\u001b[0m\u001b[0;34m.\u001b[0m\u001b[0moptions\u001b[0m\u001b[0;34m)\u001b[0m\u001b[0;34m\u001b[0m\u001b[0;34m\u001b[0m\u001b[0m\n\u001b[0m\u001b[1;32m   1181\u001b[0m         \u001b[0;32melse\u001b[0m\u001b[0;34m:\u001b[0m\u001b[0;34m\u001b[0m\u001b[0;34m\u001b[0m\u001b[0m\n\u001b[1;32m   1182\u001b[0m             \u001b[0;32mif\u001b[0m \u001b[0mengine\u001b[0m \u001b[0;34m==\u001b[0m \u001b[0;34m\"python\"\u001b[0m\u001b[0;34m:\u001b[0m\u001b[0;34m\u001b[0m\u001b[0;34m\u001b[0m\u001b[0m\n",
            "\u001b[0;32m/usr/local/lib/python3.7/dist-packages/pandas/io/parsers.py\u001b[0m in \u001b[0;36m__init__\u001b[0;34m(self, src, **kwds)\u001b[0m\n\u001b[1;32m   2008\u001b[0m         \u001b[0mkwds\u001b[0m\u001b[0;34m[\u001b[0m\u001b[0;34m\"usecols\"\u001b[0m\u001b[0;34m]\u001b[0m \u001b[0;34m=\u001b[0m \u001b[0mself\u001b[0m\u001b[0;34m.\u001b[0m\u001b[0musecols\u001b[0m\u001b[0;34m\u001b[0m\u001b[0;34m\u001b[0m\u001b[0m\n\u001b[1;32m   2009\u001b[0m \u001b[0;34m\u001b[0m\u001b[0m\n\u001b[0;32m-> 2010\u001b[0;31m         \u001b[0mself\u001b[0m\u001b[0;34m.\u001b[0m\u001b[0m_reader\u001b[0m \u001b[0;34m=\u001b[0m \u001b[0mparsers\u001b[0m\u001b[0;34m.\u001b[0m\u001b[0mTextReader\u001b[0m\u001b[0;34m(\u001b[0m\u001b[0msrc\u001b[0m\u001b[0;34m,\u001b[0m \u001b[0;34m**\u001b[0m\u001b[0mkwds\u001b[0m\u001b[0;34m)\u001b[0m\u001b[0;34m\u001b[0m\u001b[0;34m\u001b[0m\u001b[0m\n\u001b[0m\u001b[1;32m   2011\u001b[0m         \u001b[0mself\u001b[0m\u001b[0;34m.\u001b[0m\u001b[0munnamed_cols\u001b[0m \u001b[0;34m=\u001b[0m \u001b[0mself\u001b[0m\u001b[0;34m.\u001b[0m\u001b[0m_reader\u001b[0m\u001b[0;34m.\u001b[0m\u001b[0munnamed_cols\u001b[0m\u001b[0;34m\u001b[0m\u001b[0;34m\u001b[0m\u001b[0m\n\u001b[1;32m   2012\u001b[0m \u001b[0;34m\u001b[0m\u001b[0m\n",
            "\u001b[0;32mpandas/_libs/parsers.pyx\u001b[0m in \u001b[0;36mpandas._libs.parsers.TextReader.__cinit__\u001b[0;34m()\u001b[0m\n",
            "\u001b[0;32mpandas/_libs/parsers.pyx\u001b[0m in \u001b[0;36mpandas._libs.parsers.TextReader._setup_parser_source\u001b[0;34m()\u001b[0m\n",
            "\u001b[0;31mFileNotFoundError\u001b[0m: [Errno 2] No such file or directory: 'WWBIData.csv'"
          ]
        }
      ]
    },
    {
      "cell_type": "code",
      "metadata": {
        "id": "Q-qTKbDSpcLS"
      },
      "source": [
        "# Determine the shape of the table \n",
        "\n",
        "wwbi.shape"
      ],
      "execution_count": null,
      "outputs": []
    },
    {
      "cell_type": "markdown",
      "metadata": {
        "id": "9yXqU8L3pwmi"
      },
      "source": [
        "12144 rows and 24 columns. Not too bad."
      ]
    },
    {
      "cell_type": "code",
      "metadata": {
        "id": "MIJsOknXpjDs"
      },
      "source": [
        "# Display the first 10 rows\n",
        "\n",
        "wwbi.head(10)"
      ],
      "execution_count": null,
      "outputs": []
    },
    {
      "cell_type": "markdown",
      "metadata": {
        "id": "SKc7_CcPglrE"
      },
      "source": [
        "It seems that there are a lot of null values or missing entries within the dataframe.  "
      ]
    },
    {
      "cell_type": "code",
      "metadata": {
        "id": "71y-95fpgreH"
      },
      "source": [
        "# Check for null values \n",
        "\n",
        "wwbi.isna()"
      ],
      "execution_count": null,
      "outputs": []
    },
    {
      "cell_type": "code",
      "metadata": {
        "id": "HlQYhvc-q-rf"
      },
      "source": [
        "# Females as a share of private paid employees\n",
        "\n",
        "wwbi_female_priv_paid = wwbi[wwbi['Indicator Name'] == 'Females as a share of private paid employees']\n",
        "\n",
        "wwbi_female_priv_paid.head(5)"
      ],
      "execution_count": null,
      "outputs": []
    },
    {
      "cell_type": "code",
      "metadata": {
        "id": "hDc-sm3_rkKA"
      },
      "source": [
        "# Check countries \n",
        "\n",
        "wwbi_female_priv_paid[wwbi_female_priv_paid['Country Name'] == 'Sweden']\n",
        "\n",
        "wwbi.columns"
      ],
      "execution_count": null,
      "outputs": []
    },
    {
      "cell_type": "code",
      "metadata": {
        "id": "-upnFQnYz_M0"
      },
      "source": [
        "# List of EU countries with data within our table\n",
        "\n",
        "eu = ['Austria', 'Belgium', 'Bulgaria', 'Croatia', 'Cyprus', 'Czech Republic', \n",
        "      'Estonia', 'Finland', 'France', 'Greece', 'Hungary', \n",
        "      'Ireland', 'Italy', 'Latvia', 'Lithuania', 'Luxembourg', 'Malta', \n",
        "      'Poland', 'Portugal', 'Romania', 'Slovak Republic', 'Spain']"
      ],
      "execution_count": null,
      "outputs": []
    },
    {
      "cell_type": "code",
      "metadata": {
        "id": "1AyiAoUGz-77"
      },
      "source": [
        "# Iterate through the above eu list to append to our the following empty DataFrame\n",
        "\n",
        "wwbi_female_priv_paid_EU = pd.DataFrame(columns = ['Country Name', 'Country Code', 'Indicator Name', 'Indicator Code',\n",
        "      '2000', '2001', '2002', '2003', '2004', '2005', '2006', '2007', '2008',\n",
        "      '2009', '2010', '2011', '2012', '2013', '2014', '2015', '2016', '2017',\n",
        "      '2018', 'Unnamed: 23'])\n",
        "\n",
        "for i in range(len(eu)):\n",
        "\n",
        "    eu_value = wwbi_female_priv_paid[wwbi_female_priv_paid['Country Name'] == eu[i]]\n",
        "    \n",
        "    wwbi_female_priv_paid_EU = wwbi_female_priv_paid_EU.append(eu_value, ignore_index = True)\n"
      ],
      "execution_count": null,
      "outputs": []
    },
    {
      "cell_type": "code",
      "metadata": {
        "id": "tBuM0rFM3bGK"
      },
      "source": [
        "wwbi_EU_fem = wwbi_female_priv_paid_EU.drop(columns=['Country Code', 'Indicator Name', 'Indicator Code', 'Unnamed: 23'])\n",
        "\n",
        "wwbi_EU_fem"
      ],
      "execution_count": null,
      "outputs": []
    },
    {
      "cell_type": "code",
      "metadata": {
        "id": "GEXT9Dgd0Qx1"
      },
      "source": [
        "# Generate a plot for the evolution of the female share of the private\n",
        "# paid sector over time, this is unfortunately a lot of the same line of code\n",
        "\n",
        "# Set a figure size such that the plot is legible\n",
        "\n",
        "plt.figure(figsize = (20,10))\n",
        "\n",
        "# Austria - Croatia\n",
        "\n",
        "plt.plot(wwbi_EU_fem.columns[1:], list(wwbi_EU_fem.iloc[0].values[1:]), label = 'AUT')\n",
        "plt.plot(wwbi_EU_fem.columns[1:], list(wwbi_EU_fem.iloc[1].values[1:]), label = 'BEL')\n",
        "plt.plot(wwbi_EU_fem.columns[1:], list(wwbi_EU_fem.iloc[2].values[1:]), label = 'BUL')\n",
        "plt.plot(wwbi_EU_fem.columns[1:], list(wwbi_EU_fem.iloc[3].values[1:]), label = 'CRO')\n",
        "\n",
        "# Cyprus - Finland\n",
        "\n",
        "plt.plot(wwbi_EU_fem.columns[1:], list(wwbi_EU_fem.iloc[4].values[1:]), label = 'CYP')\n",
        "plt.plot(wwbi_EU_fem.columns[1:], list(wwbi_EU_fem.iloc[5].values[1:]), label = 'CZH')\n",
        "plt.plot(wwbi_EU_fem.columns[1:], list(wwbi_EU_fem.iloc[6].values[1:]), label = 'EST')\n",
        "plt.plot(wwbi_EU_fem.columns[1:], list(wwbi_EU_fem.iloc[7].values[1:]), label = 'FIN')\n",
        "\n",
        "# France - Ireland\n",
        "\n",
        "plt.plot(wwbi_EU_fem.columns[1:], list(wwbi_EU_fem.iloc[8].values[1:]), label = 'FRA')\n",
        "plt.plot(wwbi_EU_fem.columns[1:], list(wwbi_EU_fem.iloc[9].values[1:]), label = 'GRE')\n",
        "plt.plot(wwbi_EU_fem.columns[1:], list(wwbi_EU_fem.iloc[10].values[1:]), label = 'HUN')\n",
        "plt.plot(wwbi_EU_fem.columns[1:], list(wwbi_EU_fem.iloc[11].values[1:]), label = 'IRL')\n",
        "\n",
        "# Italy - Luxembourg\n",
        "\n",
        "plt.plot(wwbi_EU_fem.columns[1:], list(wwbi_EU_fem.iloc[12].values[1:]), label = 'ITA')\n",
        "plt.plot(wwbi_EU_fem.columns[1:], list(wwbi_EU_fem.iloc[13].values[1:]), label = 'LAT')\n",
        "plt.plot(wwbi_EU_fem.columns[1:], list(wwbi_EU_fem.iloc[14].values[1:]), label = 'LIT')\n",
        "plt.plot(wwbi_EU_fem.columns[1:], list(wwbi_EU_fem.iloc[15].values[1:]), label = 'LUX')\n",
        "\n",
        "# Malta - Portugal\n",
        "\n",
        "plt.plot(wwbi_EU_fem.columns[1:], list(wwbi_EU_fem.iloc[16].values[1:]), label = 'MAL')\n",
        "plt.plot(wwbi_EU_fem.columns[1:], list(wwbi_EU_fem.iloc[17].values[1:]), label = 'POL')\n",
        "plt.plot(wwbi_EU_fem.columns[1:], list(wwbi_EU_fem.iloc[18].values[1:]), label = 'POR')\n",
        "\n",
        "# Romania - Spain\n",
        "\n",
        "plt.plot(wwbi_EU_fem.columns[1:], list(wwbi_EU_fem.iloc[19].values[1:]), label = 'ROM')\n",
        "plt.plot(wwbi_EU_fem.columns[1:], list(wwbi_EU_fem.iloc[20].values[1:]), label = 'SVK')\n",
        "plt.plot(wwbi_EU_fem.columns[1:], list(wwbi_EU_fem.iloc[21].values[1:]), label = 'ESP')\n",
        "\n",
        "# Add labels and a legend to the plot \n",
        "\n",
        "plt.legend(loc = 'lower left', ncol = 2)\n",
        "plt.title('Female share of the paid private sector 2000 - 2018')\n",
        "plt.xlabel('Year')\n",
        "plt.ylabel('Female Share')\n",
        "\n",
        "plt.savefig('EU_female_share.png')"
      ],
      "execution_count": null,
      "outputs": []
    },
    {
      "cell_type": "markdown",
      "metadata": {
        "id": "ZGbOgjk1q3Tj"
      },
      "source": [
        "Upon inspection of the dataframe and the above plot, we would not be able to do an analysis from 2000 to 2018, since a majority of the nations within the above dataframe are missing data for the years 2000 to 2004. An analysis would be possible for any year following 2007."
      ]
    },
    {
      "cell_type": "code",
      "metadata": {
        "id": "ThQAvsIcy5fF"
      },
      "source": [
        " # Conduct a preliminary normality check via histogram plots\n",
        "\n",
        "for i in range(11):\n",
        "\n",
        "    plt.figure(figsize=(10,5))\n",
        "    \n",
        "    plt.hist(wwbi_EU_fem[wwbi_EU_fem.columns[i + 8]], alpha = 0.5, label = wwbi_EU_fem.columns[i + 8])\n",
        "    plt.title(\"Female share of private sector - {year}\".format(year = wwbi_EU_fem.columns[i + 8]))\n",
        "    \n",
        "\n",
        "  "
      ],
      "execution_count": null,
      "outputs": []
    },
    {
      "cell_type": "markdown",
      "metadata": {
        "id": "gCRNmvkMduxR"
      },
      "source": [
        "Some of these appear to be vaguely normally distributed. To be more certain, we will conduct the normal and Shapiro-Wilks tests for each year. "
      ]
    },
    {
      "cell_type": "code",
      "metadata": {
        "id": "XcdP22ZyjzWr"
      },
      "source": [
        "# Conduct normality tests for the years 2007 - 2017\n",
        "\n",
        "\n",
        "for i in range(11):\n",
        "\n",
        "    print(\"Normal Test: \", stats.normaltest(wwbi_EU_fem[wwbi_EU_fem.columns[i + 8]]))\n",
        "    print(\"Shapiro-Wilks Test: \", stats.shapiro(wwbi_EU_fem[wwbi_EU_fem.columns[i + 8]]))"
      ],
      "execution_count": null,
      "outputs": []
    },
    {
      "cell_type": "markdown",
      "metadata": {
        "id": "gh_1RPXjDoJO"
      },
      "source": [
        "Hm, it seems that when conducting tests for the years 2007 to 2011, we are unable to obtain a test statistic. This most likely stems from the small sample size for each of those years in the dataset. Thus, for further analysis, we will only consider the years 2012 to 2017."
      ]
    },
    {
      "cell_type": "code",
      "metadata": {
        "id": "HCPUMuWkD-cw"
      },
      "source": [
        "# Print Shapiro-Wilks and Normal test result statements for the years 2012 - 2017\n",
        "\n",
        "for i in range(6):\n",
        "\n",
        "    print(\"Normal Test {}: \".format(wwbi_EU_fem.columns[i + 13]), stats.normaltest(wwbi_EU_fem[wwbi_EU_fem.columns[i + 13]]))\n",
        "    print(\"Shapiro-Wilks Test {}: \".format(wwbi_EU_fem.columns[i + 13]), stats.shapiro(wwbi_EU_fem[wwbi_EU_fem.columns[i + 13]]))"
      ],
      "execution_count": null,
      "outputs": []
    },
    {
      "cell_type": "code",
      "metadata": {
        "id": "-JgfgoNafmiV"
      },
      "source": [
        "# Check the distributions for kurtosis and skewnes\n",
        "\n",
        "for i in range(6):\n",
        "\n",
        "    print(\"{}: \".format(wwbi_EU_fem.columns[i + 13]),stats.describe(wwbi_EU_fem[wwbi_EU_fem.columns[i + 13]]))"
      ],
      "execution_count": null,
      "outputs": []
    },
    {
      "cell_type": "markdown",
      "metadata": {
        "id": "VRuOAHJuhGPg"
      },
      "source": [
        "\n",
        "Since every p-value for the years 2012 to 2017 is greater than 0.05, we can interpret the test results as stating that it is very likely these were sampled from a normal distribution, one with skewness and kurtosis in the range (-1, 1). We can thus proceed with a parametric test method. In particular, as we have multiple groups that are normally distributed, we will conduct an ANOVA test"
      ]
    },
    {
      "cell_type": "code",
      "metadata": {
        "id": "uoCgQs24OYI9"
      },
      "source": [
        "# Conduct an ANOVA parametric test\n",
        "\n",
        "print(stats.f_oneway(wwbi_EU_fem['2012'], wwbi_EU_fem['2013'], wwbi_EU_fem['2014'], wwbi_EU_fem['2015'], wwbi_EU_fem['2016'], wwbi_EU_fem['2017']))"
      ],
      "execution_count": null,
      "outputs": []
    },
    {
      "cell_type": "markdown",
      "metadata": {
        "id": "IEDqMyIG9M7f"
      },
      "source": [
        "Since the p-value is greater than 0.05, we are unable to reject the null hypothesis.rue We can interpret this p-value as the following: Even if our null hypothesis was true, there is a 99.99% chance of observing a difference as large as what was observed."
      ]
    },
    {
      "cell_type": "code",
      "metadata": {
        "id": "Wj3nSojnpV0J"
      },
      "source": [
        "# Plot the difference in means via point plot \n",
        "\n",
        "g = sns.pointplot(data= [wwbi_EU_fem['2012'], wwbi_EU_fem['2013'], wwbi_EU_fem['2014'], \n",
        "                         wwbi_EU_fem['2015'], wwbi_EU_fem['2016'], wwbi_EU_fem['2017']], join = False)\n",
        "\n",
        "g.set(xticklabels = ['2012', '2013', '2014', '2015', '2016', '2017'])\n",
        "\n",
        "plt.savefig('Point_plot_EU_fem.png')"
      ],
      "execution_count": null,
      "outputs": []
    },
    {
      "cell_type": "markdown",
      "metadata": {
        "id": "WuChOHwOjQ7E"
      },
      "source": [
        "## Question 2 ##"
      ]
    },
    {
      "cell_type": "code",
      "metadata": {
        "id": "Stg4_T-VjQB-"
      },
      "source": [
        "wwbi_wage_ratio = wwbi[wwbi['Indicator Name'] == 'Female to male wage ratio in the private sector (using median)']\n",
        "\n",
        "\n",
        "wwbi_wage_ratio"
      ],
      "execution_count": null,
      "outputs": []
    },
    {
      "cell_type": "code",
      "metadata": {
        "id": "kEAjZPRBkStk"
      },
      "source": [
        "# We will iterate through a list of EU member nations to append Series to an empty\n",
        "# DataFrame\n",
        "\n",
        "# Create a list of European Union nations\n",
        "\n",
        "EU_Mitglieder = ['Austria', 'Belgium', 'Bulgaria', 'Croatia', 'Cyprus', 'Czech Republic', \n",
        "      'Denmark', 'Estonia', 'Finland', 'France', 'Greece', 'Hungary', \n",
        "      'Ireland', 'Italy', 'Latvia', 'Lithuania', 'Luxembourg', 'Malta', \n",
        "      'Poland', 'Portugal', 'Romania', 'Slovak Republic', 'Spain']\n",
        "\n",
        "# Create an empty DataFrame with the same columns as our original DataFrame\n",
        "\n",
        "wwbi_empty_frame = pd.DataFrame(columns = ['Country Name','Indicator Name', '2000', '2001', \n",
        "      '2002', '2003', '2004', '2005', '2006', '2007', '2008','2009', '2010', \n",
        "      '2011', '2012', '2013', '2014', '2015', '2016', '2017', '2018'])\n",
        "\n",
        "\n",
        "# Iterate through the list and append Series to our empty DataFrame\n",
        "\n",
        "for country in EU_Mitglieder:\n",
        "\n",
        "      EU_val = wwbi[wwbi['Country Name'] == country]\n",
        "\n",
        "      wwbi_empty_frame = wwbi_empty_frame.append(EU_val, ignore_index = True)"
      ],
      "execution_count": null,
      "outputs": []
    },
    {
      "cell_type": "code",
      "metadata": {
        "id": "dxiBnD-ptouz"
      },
      "source": [
        "# Filter the DataFrame based upon the chosen indicator\n",
        "\n",
        "wwbi_eu_wage_ratio = wwbi_empty_frame[wwbi_empty_frame['Indicator Name'] == 'Female to male wage ratio in the private sector (using median)']\n",
        "\n",
        "# Drop the columns 'Country Code', 'Indicator Code', and 'Unnamed: 23'\n",
        "# Display the resulting DataFrame\n",
        "\n",
        "wwbi_eu_wage_ratio = wwbi_eu_wage_ratio.drop(columns= ['Country Code', 'Indicator Code', 'Indicator Name', 'Unnamed: 23'])\n",
        "wwbi_eu_wage_ratio"
      ],
      "execution_count": null,
      "outputs": []
    },
    {
      "cell_type": "markdown",
      "metadata": {
        "id": "FovV6zlZxE4j"
      },
      "source": [
        "For any analysis, we will have to consider the years 2008 to 2018, as there are more than 20 countries with data in each year. "
      ]
    },
    {
      "cell_type": "code",
      "metadata": {
        "id": "wMfOHJmmtrlm"
      },
      "source": [
        "# Plot histograms for a preliminary normality check\n",
        "\n",
        "# wwbi_eu_wage_ratio.columns[19]\n",
        "\n",
        "for i in range(10):\n",
        "\n",
        "    plt.figure(figsize= (10, 5))\n",
        "\n",
        "    plt.hist(wwbi_eu_wage_ratio[wwbi_eu_wage_ratio.columns[i + 9]], alpha = 0.5)\n",
        "    plt.title(\"Female to male wage ratio (using median) - {}\".format(wwbi_eu_wage_ratio.columns[i + 9]))"
      ],
      "execution_count": null,
      "outputs": []
    },
    {
      "cell_type": "code",
      "metadata": {
        "id": "ILE8rdrCzZqv"
      },
      "source": [
        "# We will need to check for skewness and kurtosis\n",
        "\n",
        "\n",
        "for i in range(10):\n",
        "\n",
        "    print(stats.describe(wwbi_eu_wage_ratio[wwbi_eu_wage_ratio.columns[i + 9]]))\n"
      ],
      "execution_count": null,
      "outputs": []
    },
    {
      "cell_type": "code",
      "metadata": {
        "id": "FxLF_aYhuzgC"
      },
      "source": [
        "# Conduct normal and Shapiro-Wilks tests\n",
        "\n",
        "for i in range(10):\n",
        "\n",
        "    print(\"{}: \".format(wwbi_eu_wage_ratio.columns[i + 9]), stats.normaltest(wwbi_eu_wage_ratio[wwbi_eu_wage_ratio.columns[i + 9]]))\n",
        "    print(\"{}: \".format(wwbi_eu_wage_ratio.columns[i + 9]), stats.shapiro(wwbi_eu_wage_ratio[wwbi_eu_wage_ratio.columns[i + 9]]))"
      ],
      "execution_count": null,
      "outputs": []
    },
    {
      "cell_type": "markdown",
      "metadata": {
        "id": "qLJoKtn3zcNp"
      },
      "source": [
        "It is evident that the years 2008 - 2015 do not have enough entries for the normality checks to return a value. There are two options going forward:\n",
        "\n",
        "1. We fill in the missing values for each nation with a replacement value\n",
        "\n",
        "2. We proceed with our analysis for only the years 2016 and 2017\n",
        "\n",
        "The only ethical option would be to proceed with option 2, i.e. conduct our analysis for the years 2016 and 2017"
      ]
    },
    {
      "cell_type": "code",
      "metadata": {
        "id": "SQIhAyS9GKIj"
      },
      "source": [
        "# Repeat our normality tests, this time for only 2016 and 2017\n",
        "\n",
        "for i in range(2):\n",
        "\n",
        "    print(\"{}:\".format(wwbi_eu_wage_ratio.columns[i + 17]), stats.normaltest(wwbi_EU_fem[wwbi_eu_wage_ratio.columns[i + 17]]))\n",
        "    print(\"{}:\".format(wwbi_eu_wage_ratio.columns[i + 17]), stats.shapiro(wwbi_EU_fem[wwbi_eu_wage_ratio.columns[i + 17]]))"
      ],
      "execution_count": null,
      "outputs": []
    },
    {
      "cell_type": "markdown",
      "metadata": {
        "id": "NqyQcN2NG9Jx"
      },
      "source": [
        "Okay, the p-values for each year and test are greater than 0.05, insinuating that these samples originate from a normal distribution. We may then continue our analysis with an independent samples t-test."
      ]
    },
    {
      "cell_type": "code",
      "metadata": {
        "id": "HBG1y9K6G62g"
      },
      "source": [
        "# Perform an independent samples t-test\n",
        "\n",
        "print(stats.ttest_ind(wwbi_eu_wage_ratio['2016'], wwbi_eu_wage_ratio['2017']))"
      ],
      "execution_count": null,
      "outputs": []
    },
    {
      "cell_type": "markdown",
      "metadata": {
        "id": "0ZWteXsnH9jU"
      },
      "source": [
        "As the p-value is greater than 0.05, we are unable to reject $H_0$, implying that there is not a statistically significant difference between the female to male wage ratio in 2016 and 2017. We will now plot a point plot and obtain the confidence interval."
      ]
    },
    {
      "cell_type": "code",
      "metadata": {
        "id": "_THaA1B6H659"
      },
      "source": [
        "# Get the 95 confidence interval\n",
        "\n",
        "# Import the math module\n",
        "\n",
        "import math\n",
        "\n",
        "# First we define a function to compute the 95% confidence interval\n",
        "def get_95_ci(array_1, array_2):\n",
        "\n",
        "    sample_1_n = array_1.shape[0]\n",
        "    sample_2_n = array_2.shape[0]\n",
        "    sample_mean_1 = array_1.mean()\n",
        "    sample_mean_2 = array_2.mean()\n",
        "    sample_1_var = array_1.var()\n",
        "    sample_2_var = array_2.var()\n",
        "\n",
        "    mean_diff = sample_mean_2 - sample_mean_1\n",
        "    std_err_diff = math.sqrt((sample_1_var/sample_1_n) + (sample_2_var/sample_2_n))\n",
        "    margin_of_error = 1.96 * std_err_diff\n",
        "\n",
        "    ci_lower = mean_diff - margin_of_error\n",
        "    ci_upper = mean_diff + margin_of_error\n",
        "\n",
        "    return(\"The difference in means at the 95% confidence interval (two-tail) is between \"+str(ci_lower)+\" and \"+str(ci_upper)+\".\") \n",
        "\n",
        "get_95_ci(wwbi_eu_wage_ratio['2016'], wwbi_eu_wage_ratio['2017'])\n"
      ],
      "execution_count": null,
      "outputs": []
    },
    {
      "cell_type": "code",
      "metadata": {
        "id": "1C2hFff3MXgC"
      },
      "source": [
        "# Plot the difference in means with a pointplot\n",
        "\n",
        "h = sns.pointplot(data = [wwbi_eu_wage_ratio['2016'], wwbi_eu_wage_ratio['2017']], join = False)\n",
        "\n",
        "h.set(xticklabels = ['2016', '2017'])\n",
        "plt.title(\"Point plot 2016 vs. 2017\")"
      ],
      "execution_count": null,
      "outputs": []
    }
  ]
}